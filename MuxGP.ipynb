{
 "cells": [
  {
   "cell_type": "code",
   "execution_count": 7,
   "metadata": {
    "collapsed": true
   },
   "outputs": [],
   "source": [
    "import random\n",
    "import operator\n",
    "\n",
    "import numpy\n",
    "\n",
    "from deap import algorithms\n",
    "from deap import base\n",
    "from deap import creator\n",
    "from deap import tools\n",
    "from deap import gp\n",
    "\n",
    "def if_then_else(condition, out1, out2):\n",
    "    return out1 if condition else out2\n",
    "\n",
    "# Initialize Multiplexer problem input and output vectors\n",
    "MUX_SELECT_LINES = 4\n",
    "MUX_IN_LINES = 2 ** MUX_SELECT_LINES\n",
    "MUX_TOTAL_LINES = MUX_SELECT_LINES + MUX_IN_LINES\n",
    "\n",
    "# input : [A0 A1 A2 D0 D1 D2 D3 D4 D5 D6 D7] for a 8-3 mux\n",
    "inputs = [[0] * MUX_TOTAL_LINES for i in range(2 ** MUX_TOTAL_LINES)]\n",
    "outputs = [None] * (2 ** MUX_TOTAL_LINES)\n",
    "\n",
    "for i in range(2 ** MUX_TOTAL_LINES):\n",
    "    value = i\n",
    "    divisor = 2 ** MUX_TOTAL_LINES\n",
    "    # Fill the input bits\n",
    "    for j in range(MUX_TOTAL_LINES):\n",
    "        divisor /= 2\n",
    "        if value >= divisor:\n",
    "            inputs[i][j] = 1\n",
    "            value -= divisor\n",
    "    \n",
    "    # Determine the corresponding output\n",
    "    indexOutput = MUX_SELECT_LINES\n",
    "    for j, k in enumerate(inputs[i][:MUX_SELECT_LINES]):\n",
    "        indexOutput += k * 2**j\n",
    "    outputs[i] = inputs[i][indexOutput]"
   ]
  },
  {
   "cell_type": "code",
   "execution_count": 8,
   "metadata": {
    "collapsed": false
   },
   "outputs": [
    {
     "name": "stdout",
     "output_type": "stream",
     "text": [
      "1048576\n"
     ]
    }
   ],
   "source": [
    "print(len(outputs))"
   ]
  },
  {
   "cell_type": "code",
   "execution_count": 9,
   "metadata": {
    "collapsed": false
   },
   "outputs": [],
   "source": [
    "import random\n",
    "\n",
    "def varAnd(population, toolbox, cxpb, mutpb):\n",
    "    offspring = [toolbox.clone(ind) for ind in population]\n",
    "\n",
    "    # Apply crossover and mutation on the offspring\n",
    "    for i in range(1, len(offspring), 2):\n",
    "        if random.random() < cxpb:\n",
    "            offspring[i - 1], offspring[i] = toolbox.mate(offspring[i - 1], offspring[i])\n",
    "            del offspring[i - 1].fitness.values, offspring[i].fitness.values\n",
    "\n",
    "    for i in range(len(offspring)):\n",
    "        if random.random() < mutpb:\n",
    "            offspring[i], = toolbox.mutate(offspring[i])\n",
    "            del offspring[i].fitness.values\n",
    "\n",
    "    return offspring\n",
    "\n",
    "def evolve(population, toolbox, cxpb, mutpb, ngen, stats=None,\n",
    "             halloffame=None, verbose=__debug__):\n",
    "    logbook = tools.Logbook()\n",
    "    logbook.header = ['gen', 'nevals'] + (stats.fields if stats else [])\n",
    "    \n",
    "    invalid_ind = [ind for ind in population if not ind.fitness.valid]\n",
    "    fitnesses = toolbox.map(toolbox.evaluate, invalid_ind)\n",
    "    for ind, fit in zip(invalid_ind, fitnesses):\n",
    "        ind.fitness.values = fit\n",
    "\n",
    "    if halloffame is not None:\n",
    "        halloffame.update(population)\n",
    "\n",
    "    record = stats.compile(population) if stats else {}\n",
    "    logbook.record(gen=0, nevals=len(invalid_ind), **record)\n",
    "    if verbose:\n",
    "        print(logbook.stream)\n",
    "\n",
    "    sequences = []\n",
    "    scores = []\n",
    "        \n",
    "    # Begin the generational process\n",
    "    for gen in range(1, ngen + 1):\n",
    "        # Select the next generation individuals\n",
    "        offspring = toolbox.select(population, len(population))\n",
    "        \n",
    "        # Vary the pool of individuals\n",
    "        offspring = varAnd(offspring, toolbox, cxpb, mutpb)\n",
    "\n",
    "        # all sequences + scores\n",
    "        # @TODO should we drop bottom half or something? (teach it good sequences)\n",
    "        list_ind = offspring\n",
    "        list_fitnesses = toolbox.map(toolbox.evaluate, list_ind)\n",
    "        for ind, fit in zip(list_ind, list_fitnesses):\n",
    "            sequences.append(str(ind))\n",
    "            scores.append(fit[0])\n",
    "        \n",
    "        # Evaluate the individuals with an invalid fitness\n",
    "        invalid_ind = [ind for ind in offspring if not ind.fitness.valid]\n",
    "        fitnesses = toolbox.map(toolbox.evaluate, invalid_ind)\n",
    "        for ind, fit in zip(invalid_ind, fitnesses):\n",
    "            ind.fitness.values = fit\n",
    "\n",
    "        # Update the hall of fame with the generated individuals\n",
    "        if halloffame is not None:\n",
    "            halloffame.update(offspring)\n",
    "\n",
    "        # Replace the current population by the offspring\n",
    "        population[:] = offspring\n",
    "\n",
    "        # Append the current generation statistics to the logbook\n",
    "        record = stats.compile(population) if stats else {}\n",
    "        logbook.record(gen=gen, nevals=len(invalid_ind), **record)\n",
    "        if verbose:\n",
    "            print(logbook.stream)\n",
    "\n",
    "    return population, logbook, sequences, scores"
   ]
  },
  {
   "cell_type": "code",
   "execution_count": null,
   "metadata": {
    "collapsed": false,
    "scrolled": false
   },
   "outputs": [],
   "source": [
    "def nor(a, b):\n",
    "    if a == 1 or b == 1:\n",
    "        return 0\n",
    "    else:\n",
    "        return 1\n",
    "\n",
    "pset = gp.PrimitiveSet(\"MAIN\", MUX_TOTAL_LINES, \"IN\")\n",
    "pset.addPrimitive(operator.and_, 2)\n",
    "pset.addPrimitive(operator.or_, 2)\n",
    "pset.addPrimitive(operator.xor, 2)\n",
    "pset.addPrimitive(nor, 2)\n",
    "# pset.addPrimitive(if_then_else, 3)\n",
    "pset.addTerminal(1)\n",
    "pset.addTerminal(0)\n",
    "\n",
    "creator.create(\"FitnessMax\", base.Fitness, weights=(1.0,))\n",
    "creator.create(\"Individual\", gp.PrimitiveTree, fitness=creator.FitnessMax)\n",
    "\n",
    "toolbox = base.Toolbox()\n",
    "toolbox.register(\"expr\", gp.genGrow, pset=pset, min_=2, max_=7)\n",
    "toolbox.register(\"individual\", tools.initIterate, creator.Individual, toolbox.expr)\n",
    "toolbox.register(\"population\", tools.initRepeat, list, toolbox.individual)\n",
    "toolbox.register(\"compile\", gp.compile, pset=pset)\n",
    "\n",
    "def evalMultiplexer(individual):\n",
    "    func = toolbox.compile(expr=individual)\n",
    "    return sum(func(*in_) == out for in_, out in zip(inputs, outputs)),\n",
    "\n",
    "toolbox.register(\"evaluate\", evalMultiplexer)\n",
    "toolbox.register(\"select\", tools.selTournament, tournsize=7)\n",
    "toolbox.register(\"mate\", gp.cxOnePoint)\n",
    "toolbox.register(\"expr_mut\", gp.genGrow, min_=0, max_=2)\n",
    "toolbox.register(\"mutate\", gp.mutUniform, expr=toolbox.expr_mut, pset=pset)\n",
    "\n",
    "pop = toolbox.population(n=40)\n",
    "hof = tools.HallOfFame(1)\n",
    "stats = tools.Statistics(lambda ind: ind.fitness.values)\n",
    "stats.register(\"avg\", numpy.mean)\n",
    "stats.register(\"std\", numpy.std)\n",
    "stats.register(\"min\", numpy.min)\n",
    "stats.register(\"max\", numpy.max)\n",
    "\n",
    "population, logbook, sequences, scores = evolve(pop, toolbox, 0.8, 0.1, 40, stats, halloffame=hof)\n",
    "print(len(sequences))\n",
    "print(len(scores))"
   ]
  },
  {
   "cell_type": "code",
   "execution_count": null,
   "metadata": {
    "collapsed": false
   },
   "outputs": [],
   "source": [
    "for i in range(len(sequences)):\n",
    "    seq = sequences[i].replace('IN', '')\n",
    "    seq = seq.replace('(', ' ')\n",
    "    seq = seq.replace(')', '')\n",
    "    seq = seq.replace('and_', 'A')\n",
    "    seq = seq.replace('or_', 'B')\n",
    "    seq = seq.replace('xor', 'C')\n",
    "    seq = seq.replace('nor', 'D')\n",
    "    seq = seq.replace(',', '')\n",
    "    sequences[i] = seq\n",
    "print(len(sequences))"
   ]
  },
  {
   "cell_type": "code",
   "execution_count": null,
   "metadata": {
    "collapsed": false
   },
   "outputs": [],
   "source": [
    "import pickle as pkl\n",
    "pkl.dump(sequences, open('./data/sequences' + str(MUX_SELECT_LINES) + '.pkl', \"wb\"))\n",
    "pkl.dump(scores, open('./data/scores' + str(MUX_SELECT_LINES) + '.pkl', \"wb\"))"
   ]
  },
  {
   "cell_type": "code",
   "execution_count": null,
   "metadata": {
    "collapsed": true
   },
   "outputs": [],
   "source": []
  }
 ],
 "metadata": {
  "kernelspec": {
   "display_name": "Python 3",
   "language": "python",
   "name": "python3"
  },
  "language_info": {
   "codemirror_mode": {
    "name": "ipython",
    "version": 3
   },
   "file_extension": ".py",
   "mimetype": "text/x-python",
   "name": "python",
   "nbconvert_exporter": "python",
   "pygments_lexer": "ipython3",
   "version": "3.5.1"
  }
 },
 "nbformat": 4,
 "nbformat_minor": 0
}
